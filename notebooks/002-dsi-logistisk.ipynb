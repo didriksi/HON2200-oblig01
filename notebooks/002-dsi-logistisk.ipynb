{
 "cells": [
  {
   "cell_type": "code",
   "execution_count": 1,
   "metadata": {},
   "outputs": [],
   "source": [
    "import numpy as np\n",
    "import matplotlib.pyplot as plt\n",
    "import pandas as pd\n",
    "from sklearn.metrics import accuracy_score"
   ]
  },
  {
   "cell_type": "code",
   "execution_count": 2,
   "metadata": {},
   "outputs": [],
   "source": [
    "def sigmoid(x):\n",
    "    \"\"\"Sigmoid function, S(x) = 1/(1 + exp(-x))\"\"\"\n",
    "    \n",
    "    return 1/(1 + np.exp(-x))"
   ]
  },
  {
   "cell_type": "code",
   "execution_count": 3,
   "metadata": {},
   "outputs": [
    {
     "data": {
      "text/plain": [
       "[<matplotlib.lines.Line2D at 0x7fe129bf7be0>]"
      ]
     },
     "execution_count": 3,
     "metadata": {},
     "output_type": "execute_result"
    },
    {
     "data": {
      "image/png": "[encoded data removed]",
      "text/plain": [
       "<Figure size 432x288 with 1 Axes>"
      ]
     },
     "metadata": {
      "needs_background": "light"
     },
     "output_type": "display_data"
    }
   ],
   "source": [
    "x = np.linspace(-10, 10)\n",
    "y = sigmoid(x)\n",
    "\n",
    "plt.plot(x, y)"
   ]
  },
  {
   "cell_type": "markdown",
   "metadata": {},
   "source": [
    "The sigmoid function works well for binary classification cases because $\\lim_{x \\rightarrow \\infty} \\sigma(x) = 1$ and $\\lim_{x \\rightarrow -\\infty} \\sigma(x) = 0$."
   ]
  },
  {
   "cell_type": "code",
   "execution_count": 4,
   "metadata": {},
   "outputs": [],
   "source": [
    "def logistic_regression(X, weights, bias):\n",
    "    \"\"\"Perform logistic regression on data\n",
    "    \n",
    "    :param X: np.ndarray with data\n",
    "    :param weights: Weights. Has to be as many as there are columns in X.\n",
    "    :param biases: Biases. Has to be as many as there are columns in X.\n",
    "\n",
    "    :return: np.array with probabilities.\n",
    "    \"\"\"\n",
    "    \n",
    "    return sigmoid(X @ weights + bias)\n",
    "\n",
    "\n",
    "def initialise_weights_and_biases(n):\n",
    "    \"\"\"Initialises weights with standardnormal distribution by default, and biases as zeros.\n",
    "    \n",
    "    :param n: Number of weights to be generated.\n",
    "    \n",
    "    :return: Tuple with weights as np.array with n elements, and bias\n",
    "    \"\"\"\n",
    "    \n",
    "    weights = np.random.randn(n)\n",
    "    bias = 0\n",
    "    \n",
    "    return weights, bias\n",
    "\n",
    "\n",
    "def cross_entropy_logistic_gradient(X, y, y_hat, *parameters):\n",
    "    \"\"\"Computes gradient for parameters in logistic regression.\n",
    "    \n",
    "    :param X: np.ndarray with predictor data.\n",
    "    :param y: np.array with target.\n",
    "    :param y_hat: np.array of same shape as y, with predictions.\n",
    "    :param *parmeters: Tuple of weights and bias. Used *args for compatibility.\n",
    "    \n",
    "    :return: Tuple of gradients for weights and bias.\n",
    "    \"\"\"\n",
    "    delta = -(y - y_hat) / y.shape[0]\n",
    "\n",
    "    dCdW = X.T @ delta\n",
    "    dCdb = np.sum(delta, axis = 0)\n",
    "    \n",
    "    return dCdW, dCdb\n",
    "\n",
    "\n",
    "def cross_entropy_loss(y, y_hat):\n",
    "    \"\"\"Computes cross entropy loss.\"\"\"\n",
    "    \n",
    "    return - np.mean(y*np.log(y_hat+1e-13) + (1 - y)*np.log(1 - y_hat + 1e-13))\n",
    "\n",
    "def train(X,\n",
    "          y,\n",
    "          *parameters,\n",
    "          iterations=100,\n",
    "          learning_rate=0.01,\n",
    "          method=logistic_regression,\n",
    "          gradient_func=cross_entropy_logistic_gradient,\n",
    "          loss=cross_entropy_loss):\n",
    "    \"\"\"Trains some function estimator.\n",
    "    \n",
    "    :param X: np.ndarray with predictor data.\n",
    "    :param y: np.ndarray with target data.\n",
    "    :param *parameters: Training parameters (like weights and biases) to start with.\n",
    "    :param iterations: Number of iterations to train for. 100 by default.\n",
    "    :param learning_rate: Default is 0.01.\n",
    "    :param method: Function with signature like `method(X, *parameters)`, that returns\n",
    "                   np.array with predicted values. logistic_regression by default.\n",
    "    :param gradient_func: Function that evaluates loss after a step, and returns tuple of \n",
    "                          np.array with gradients for parameters. Signature must be\n",
    "                          `gradient_func(X, y, y_hat, *parameters)`. Default is\n",
    "                          cross_entropy_logistic_gradient.\n",
    "    :param loss: Function that returns loss. Not used for training, just for returning loss\n",
    "                 after each iteration. Default is cross_entropy_loss.\n",
    "    \n",
    "    :return: Tuple with the first element being the updated parameters, and the second being\n",
    "             the loss after each step. \n",
    "    \"\"\"\n",
    "    losses = np.zeros(iterations)\n",
    "    for i in range(iterations):\n",
    "        y_hat = method(X, *parameters)\n",
    "        \n",
    "        losses[i] = loss(y, y_hat)\n",
    "        \n",
    "        gradients = gradient_func(X, y, y_hat, *parameters)\n",
    "        \n",
    "        for parameter, gradient in zip(parameters, gradients):\n",
    "            parameter -= learning_rate * gradient\n",
    "    \n",
    "    return parameters, losses"
   ]
  },
  {
   "cell_type": "code",
   "execution_count": 5,
   "metadata": {},
   "outputs": [],
   "source": [
    "from sklearn.model_selection import train_test_split\n",
    "\n",
    "titanic_df = pd.read_csv(\"../data/train.csv\")\n",
    "titanic_df[\"NaN_Age\"] = titanic_df[\"Age\"].isnull().astype(int)\n",
    "titanic_df[\"Age\"] = titanic_df.groupby([\"Pclass\", \"Sex\"])[\"Age\"].apply(lambda x: x.fillna(x.median()))\n",
    "# Make NaN values into \"N0\", so that elementwise __item__(0) and __item__(1:)\n",
    "# returns either the first letter or 'N', or the number or '0' respectively\n",
    "titanic_df[\"Cabin\"] = titanic_df[\"Cabin\"].fillna(\"N0\")\n",
    "titanic_df[\"Cabin_Letter\"] = titanic_df[\"Cabin\"].apply(lambda x: x[0])\n",
    "\n",
    "# Here, it gets a bit trickyer because some people have several rooms\n",
    "# This means I have to use regexp to get just the first one, and throw the others away\n",
    "# I assume number of rooms is correlated with columns like fair, and that it therefore\n",
    "# isn't very important. There are also not that many people that have several rooms,\n",
    "# so using that data runs the risk of overfitting\n",
    "titanic_df[\"Cabin_Number\"] = titanic_df[\"Cabin\"].str.extract(r\"\\w(\\d{1,3})\\s?.*\")\n",
    "titanic_df[\"Cabin_Number\"].fillna(0, inplace=True)\n",
    "titanic_df[\"Cabin_Number\"] = titanic_df[\"Cabin_Number\"].astype(int)\n",
    "categorical_cols = [\"Cabin_Letter\", \"Sex\", \"Embarked\"]\n",
    "titanic_df = pd.get_dummies(titanic_df, columns=categorical_cols, prefix=categorical_cols, prefix_sep='_')\n",
    "X = titanic_df[[\"Pclass\", \"Age\", \"NaN_Age\", \"SibSp\", \"Parch\", \"Fare\", \"Sex_female\",\n",
    "               \"Cabin_Number\", \"Cabin_Letter_A\", \"Cabin_Letter_B\", \"Cabin_Letter_C\",\n",
    "               \"Cabin_Letter_D\", \"Cabin_Letter_E\", \"Cabin_Letter_F\", \"Cabin_Letter_G\",\n",
    "               \"Cabin_Letter_N\", \"Cabin_Letter_T\", \"Embarked_C\", \"Embarked_Q\", \"Embarked_S\"]]\n",
    "y = titanic_df[\"Survived\"]\n",
    "\n",
    "X_train, X_test, y_train, y_test = train_test_split(X.to_numpy(), y.to_numpy(), test_size=0.2)"
   ]
  },
  {
   "cell_type": "code",
   "execution_count": 6,
   "metadata": {},
   "outputs": [],
   "source": [
    "weights, bias = initialise_weights_and_biases(X_train.shape[1])\n",
    "parameters, losses = train(X_train, y_train, weights, bias, iterations=10000, learning_rate=0.0025)"
   ]
  },
  {
   "cell_type": "code",
   "execution_count": 7,
   "metadata": {},
   "outputs": [
    {
     "data": {
      "text/plain": [
       "[<matplotlib.lines.Line2D at 0x7fe12a02cf70>]"
      ]
     },
     "execution_count": 7,
     "metadata": {},
     "output_type": "execute_result"
    },
    {
     "data": {
      "image/png": "[encoded data removed]",
      "text/plain": [
       "<Figure size 432x288 with 1 Axes>"
      ]
     },
     "metadata": {
      "needs_background": "light"
     },
     "output_type": "display_data"
    }
   ],
   "source": [
    "plt.plot(losses)"
   ]
  },
  {
   "cell_type": "code",
   "execution_count": 8,
   "metadata": {},
   "outputs": [
    {
     "name": "stdout",
     "output_type": "stream",
     "text": [
      "Accuracy = 83.24%\n"
     ]
    }
   ],
   "source": [
    "y_hat_test = np.round(logistic_regression(X_test, *parameters))\n",
    "accuracy = accuracy_score(y_test, y_hat_test)\n",
    "print(f\"Accuracy = {accuracy:.2%}\")"
   ]
  }
 ],
 "metadata": {
  "kernelspec": {
   "display_name": "Python 3",
   "language": "python",
   "name": "python3"
  },
  "language_info": {
   "codemirror_mode": {
    "name": "ipython",
    "version": 3
   },
   "file_extension": ".py",
   "mimetype": "text/x-python",
   "name": "python",
   "nbconvert_exporter": "python",
   "pygments_lexer": "ipython3",
   "version": "3.8.3"
  }
 },
 "nbformat": 4,
 "nbformat_minor": 4
}
